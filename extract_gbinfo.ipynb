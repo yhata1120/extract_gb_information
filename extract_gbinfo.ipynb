{
 "cells": [
  {
   "cell_type": "code",
   "execution_count": 1,
   "id": "2d2fc003",
   "metadata": {},
   "outputs": [],
   "source": [
    "import pandas as pd\n",
    "import numpy as np\n",
    "import os\n",
    "import shutil\n",
    "import matplotlib.pyplot as plt"
   ]
  },
  {
   "cell_type": "code",
   "execution_count": 2,
   "id": "60818a40",
   "metadata": {},
   "outputs": [],
   "source": [
    "import glob"
   ]
  },
  {
   "cell_type": "code",
   "execution_count": 3,
   "id": "80c97bc0",
   "metadata": {},
   "outputs": [],
   "source": [
    "import numpy as np\n",
    "import os\n",
    "import glob\n",
    "import pickle\n",
    "import math\n",
    "import matplotlib.pyplot as plt\n",
    "import pandas as pd\n",
    "import itertools\n",
    "from numpy import array, dot, round, cross, ceil\n",
    "from numpy.linalg import inv, det, norm\n",
    "from numpy import cross, dot, ceil\n",
    "from numpy.linalg import norm, inv"
   ]
  },
  {
   "cell_type": "code",
   "execution_count": 4,
   "id": "66dafb91",
   "metadata": {},
   "outputs": [],
   "source": [
    "from csl_generator import getsigmas"
   ]
  },
  {
   "cell_type": "code",
   "execution_count": 5,
   "id": "b1222fe1",
   "metadata": {},
   "outputs": [],
   "source": [
    "from openpyxl import Workbook\n",
    "from openpyxl.chart import Reference, LineChart\n",
    "from openpyxl.chart.layout import Layout, ManualLayout\n",
    "from openpyxl.chart.shapes import GraphicalProperties\n",
    "from openpyxl.chart.shapes import GraphicalProperties\n",
    "from openpyxl.drawing.line import LineProperties"
   ]
  },
  {
   "cell_type": "code",
   "execution_count": 6,
   "id": "53b8b25d",
   "metadata": {},
   "outputs": [],
   "source": [
    "def get_most_stable_gbenergy(filename):\n",
    "    system_energy = np.loadtxt(f\"{filename}\")[:,-1]\n",
    "    gbenergy = np.loadtxt(f\"{filename}\")[:,-2]\n",
    "    most_stable_gbenergy = gbenergy[system_energy.argmin()]\n",
    "    return most_stable_gbenergy"
   ]
  },
  {
   "cell_type": "code",
   "execution_count": 39,
   "id": "c728690d",
   "metadata": {},
   "outputs": [],
   "source": [
    "name_ = \"Ag111\""
   ]
  },
  {
   "cell_type": "code",
   "execution_count": 43,
   "id": "8db3a83e",
   "metadata": {},
   "outputs": [
    {
     "name": "stdout",
     "output_type": "stream",
     "text": [
      "Ag\n",
      "111\n"
     ]
    }
   ],
   "source": [
    "first_name = \"\".join(list(name_)[:-3])\n",
    "print(first_name)\n",
    "second_name = \"\".join(list(name_)[-3:])\n",
    "print(second_name)"
   ]
  },
  {
   "cell_type": "code",
   "execution_count": null,
   "id": "09ab1244",
   "metadata": {},
   "outputs": [],
   "source": []
  },
  {
   "cell_type": "code",
   "execution_count": 57,
   "id": "dffdcb69",
   "metadata": {},
   "outputs": [],
   "source": [
    "def make_excel(wb,ws,name,test_data,filename=\"gbenergy\"):\n",
    "    titles = [[\"angle\",\"cnid_sampling\",\"my_model\",\"gbindice\"]]\n",
    "    test_data = titles + test_data\n",
    "\n",
    "    for i,v in enumerate(test_data):\n",
    "        ws.append(v)\n",
    "\n",
    "    rmin = ws.min_row\n",
    "    rmax = ws.max_row\n",
    "    cmin = ws.min_column\n",
    "    cmax = ws.max_column-1\n",
    "\n",
    "\n",
    "    chart = LineChart()\n",
    "    src = Reference(ws, min_col=cmin+1, min_row=rmin, max_col=cmax, max_row=rmax)\n",
    "    chart.add_data(src, titles_from_data=True)\n",
    "    cat = Reference(ws, min_col=cmin, min_row=rmin+1, max_row=rmax)  # 項目名の設定\n",
    "    chart.set_categories(cat)\n",
    "    first_name = \"\".join(list(name)[:-3])\n",
    "    second_name = \"\".join(list(name)[-3:])\n",
    "    chart.title = f\"{first_name}[{second_name}]\"  # グラフタイトル\n",
    "    chart.x_axis.title = '傾角 [degree]'  # 軸ラベル\n",
    "    chart.y_axis.title = r'粒界エネルギー [mJ/m^2]'\n",
    "    chart.anchor = 'A8'  # グラフの表示位置\n",
    "    chart.width = 13  # グラフのサイズ\n",
    "    chart.height = 8\n",
    "\n",
    "\n",
    "    chart.layout = Layout(ManualLayout(x = 0.05, y = 0.05, h = 0.9, w = 0.9, xMode=\"edge\", yMode=\"edge\"))\n",
    "    #プロットエリアの\n",
    "    chart.plot_area.spPr = GraphicalProperties(solidFill = \"f2ffff\", ln =LineProperties(solidFill=\"000000\", w=2*12700))\n",
    "    chart.plot_area.spPr = GraphicalProperties(noFill = True)\n",
    "\n",
    "    ws.add_chart(chart)\n",
    "    wb.save(f'{filename}.xlsx')\n",
    "\n",
    "    # 線の色を変更する\n",
    "    chart.ser[0].graphicalProperties.line.solidFill = \"FF0000\"\n",
    "    chart.ser[1].graphicalProperties.line.solidFill = \"00FF00\"\n",
    "    # chart.ser[2].graphicalProperties.line.solidFill = \"0000FF\"\n",
    "    wb.save(f'{filename}.xlsx')\n",
    "\n",
    "    # 線種を変更する\n",
    "    # 設定可能な値：'lgDash', 'sysDash', 'dashDot', 'solid', 'sysDashDot',\n",
    "    # 'lgDashDotDot', 'dot', 'sysDot', 'sysDashDotDot', 'dash', 'lgDashDot'\n",
    "    chart.ser[0].graphicalProperties.line.dashStyle = 'solid'\n",
    "    chart.ser[1].graphicalProperties.line.dashStyle = 'solid'\n",
    "    # chart.ser[2].graphicalProperties.line.dashStyle = 'solid'\n",
    "    wb.save(f'{filename}.xlsx')\n",
    "\n",
    "    # 線の太さを変更する\n",
    "    chart.ser[0].graphicalProperties.line.width = 10000\n",
    "    chart.ser[1].graphicalProperties.line.width = 10000\n",
    "    # chart.ser[2].graphicalProperties.line.width = 30000\n",
    "    wb.save(f'{filename}.xlsx')\n",
    "\n",
    "    # 線を滑らかにする\n",
    "    chart.ser[0].smooth = False\n",
    "    wb.save(f'{filename}.xlsx')\n",
    "\n",
    "    # マーカーを変更する\n",
    "    # 設定可能な値：'x', 'auto', 'picture', 'star', 'diamond', 'plus', 'dot',\n",
    "    # 'square', 'dash', 'triangle', 'circle'\n",
    "    chart.ser[0].marker.symbol = 'circle'\n",
    "    chart.ser[1].marker.symbol = 'diamond'\n",
    "    # chart.ser[2].marker.symbol = 'diamond'\n",
    "    wb.save(f'{filename}.xlsx')\n",
    "\n",
    "    chart.ser[0].marker.size = 10\n",
    "    chart.ser[1].marker.size = 8\n",
    "    # chart.ser[2].marker.symbol = 'diamond'\n",
    "    wb.save(f'{filename}.xlsx')\n",
    "\n",
    "    # マーカーの色を変更する\n",
    "    chart.ser[0].marker.graphicalProperties.line.solidFill = \"FF0000\"\n",
    "    chart.ser[1].marker.graphicalProperties.line.solidFill = \"00FF00\"\n",
    "    # chart.ser[2].marker.graphicalProperties.line.solidFill = \"0000FF\"\n",
    "    wb.save(f'{filename}.xlsx')\n",
    "\n",
    "    # グラフの種類を変更する\n",
    "    # chart.grouping = 'stacked'  # 積み上げ折れ線グラフ\n",
    "    # chart.grouping = 'percentStacked'  # 100％積み上げ折れ線グラフ\n",
    "    chart.grouping = 'standard'  # 折れ線グラフ\n",
    "    wb.save(f'{filename}.xlsx')"
   ]
  },
  {
   "cell_type": "code",
   "execution_count": 25,
   "id": "a9f627c4",
   "metadata": {},
   "outputs": [],
   "source": [
    "def get_energy(filename):\n",
    "    min_energy = get_most_stable_gbenergy(filename)\n",
    "    return min_energy"
   ]
  },
  {
   "cell_type": "code",
   "execution_count": 26,
   "id": "28e4fe9c",
   "metadata": {},
   "outputs": [],
   "source": [
    "def get_cnid_energy(filename):\n",
    "    min_energy = get_most_stable_gbenergy(filename)\n",
    "    return min_energy"
   ]
  },
  {
   "cell_type": "code",
   "execution_count": 27,
   "id": "0410ccae",
   "metadata": {},
   "outputs": [],
   "source": [
    "def order_indice(test):\n",
    "    test = np.array(test)\n",
    "    test = np.sort(test)\n",
    "    x, y, z = test\n",
    "    if x!=y:\n",
    "        test = np.array([z,y,x])\n",
    "    else:\n",
    "        pass\n",
    "    return test"
   ]
  },
  {
   "cell_type": "code",
   "execution_count": 28,
   "id": "089a96ce",
   "metadata": {},
   "outputs": [],
   "source": [
    "def get_100_gbenergy(dirname):\n",
    "    misangle_list = []\n",
    "    gbe_list = []\n",
    "    for filename in glob.glob(f\"{dirname}/*gb\"):\n",
    "        filename_dash = filename.split(\"/\")[-1]\n",
    "        gbname = filename_dash.split(\"_\")\n",
    "        gbname = gbname[:-1]\n",
    "        gbname = list(map(float, gbname))\n",
    "        tang = min([float(gbname[1])/float(gbname[0]),float(gbname[0])/float(gbname[1])])\n",
    "        mis_angle = 2*(np.arctan(tang)/np.pi*180)\n",
    "        gbe = get_energy(f\"{filename}/results\")\n",
    "        mis_angle = np.round(mis_angle,5)\n",
    "        gbe = np.round(gbe,5)\n",
    "        misangle_list.append(mis_angle)\n",
    "        gbe_list.append(gbe)\n",
    "    result = np.array([misangle_list,gbe_list]).T\n",
    "    col_num = 0\n",
    "    result_sorted = result[np.argsort(result[:, col_num])]\n",
    "    result_sorted = np.vstack([np.array([0,0]),result_sorted,np.array([90,0])])\n",
    "    return result_sorted"
   ]
  },
  {
   "cell_type": "code",
   "execution_count": 29,
   "id": "e476de68",
   "metadata": {},
   "outputs": [],
   "source": [
    "def get_100_cnid_gbenergy(dirname):\n",
    "    misangle_list = []\n",
    "    gbe_list = []\n",
    "    for filename in glob.glob(f\"{dirname}/*gb\"):\n",
    "        filename_dash = filename.split(\"/\")[-1]\n",
    "        gbname = filename_dash.split(\"_\")\n",
    "        gbname = gbname[:-1]\n",
    "        gbname = list(map(float, gbname))\n",
    "        tang = min([float(gbname[1])/float(gbname[0]),float(gbname[0])/float(gbname[1])])\n",
    "        mis_angle = 2*(np.arctan(tang)/np.pi*180)\n",
    "        gbe = get_cnid_energy(f\"{filename}/results\")\n",
    "        mis_angle = np.round(mis_angle,5)\n",
    "        gbe = np.round(gbe,5)\n",
    "        misangle_list.append(mis_angle)\n",
    "        gbe_list.append(gbe)\n",
    "    result = np.array([misangle_list,gbe_list]).T\n",
    "    col_num = 0\n",
    "    result_sorted = result[np.argsort(result[:, col_num])]\n",
    "    result_sorted = np.vstack([np.array([0,0]),result_sorted,np.array([90,0])])\n",
    "    return result_sorted"
   ]
  },
  {
   "cell_type": "code",
   "execution_count": 30,
   "id": "a52a2ab4",
   "metadata": {},
   "outputs": [],
   "source": [
    "def get_110_gbenergy(dirname):\n",
    "    misangle_list = []\n",
    "    gbe_list = []\n",
    "    for filename in glob.glob(f\"{dirname}/*gb\"):\n",
    "        filename_dash = filename.split(\"/\")[-1]\n",
    "        gbname = filename_dash.split(\"_\")\n",
    "        gbname = gbname[:-1]\n",
    "        gbname = list(map(float, gbname))\n",
    "        gbname = order_indice(gbname)\n",
    "        x, y, z = gbname\n",
    "        tang = z/np.sqrt(x**2 + y**2)\n",
    "        mis_angle = 2*(np.arctan(tang)/np.pi*180)\n",
    "        mis_angle = abs(mis_angle)\n",
    "        gbe = get_energy(f\"{filename}/results\")   \n",
    "        mis_angle = np.round(mis_angle,5)\n",
    "        gbe = np.round(gbe,5)\n",
    "        misangle_list.append(mis_angle)\n",
    "        gbe_list.append(gbe)\n",
    "    result = np.array([misangle_list,gbe_list]).T\n",
    "    col_num = 0\n",
    "    result_sorted = result[np.argsort(result[:, col_num])]\n",
    "    result_sorted = np.vstack([np.array([0,0]),result_sorted,np.array([180,0])])\n",
    "    return result_sorted"
   ]
  },
  {
   "cell_type": "code",
   "execution_count": 31,
   "id": "f417a441",
   "metadata": {},
   "outputs": [],
   "source": [
    "def get_110_cnid_gbenergy(dirname):\n",
    "    misangle_list = []\n",
    "    gbe_list = []\n",
    "    for filename in glob.glob(f\"{dirname}/*gb\"):\n",
    "        filename_dash = filename.split(\"/\")[-1]\n",
    "        gbname = filename_dash.split(\"_\")\n",
    "        gbname = gbname[:-1]\n",
    "        gbname = list(map(float, gbname))\n",
    "        gbname = order_indice(gbname)\n",
    "        x, y, z = gbname\n",
    "        tang = z/np.sqrt(x**2 + y**2)\n",
    "        mis_angle = 2*(np.arctan(tang)/np.pi*180)\n",
    "        mis_angle = abs(mis_angle)\n",
    "        gbe = get_cnid_energy(f\"{filename}/results\")\n",
    "        mis_angle = np.round(mis_angle,5)\n",
    "        gbe = np.round(gbe,5)\n",
    "        misangle_list.append(mis_angle)\n",
    "        gbe_list.append(gbe)\n",
    "    result = np.array([misangle_list,gbe_list]).T\n",
    "    col_num = 0\n",
    "    result_sorted = result[np.argsort(result[:, col_num])]\n",
    "    result_sorted = np.vstack([np.array([0,0]),result_sorted,np.array([180,0])])\n",
    "    return result_sorted"
   ]
  },
  {
   "cell_type": "code",
   "execution_count": 32,
   "id": "08b9dc88",
   "metadata": {},
   "outputs": [],
   "source": [
    "def get_111_gbenergy(dirname):\n",
    "    misangle_list = []\n",
    "    gbe_list = []\n",
    "    baselist = []\n",
    "    for i in list(itertools.permutations([1,-1,0])):\n",
    "        baselist.append(list(i))\n",
    "    for filename in glob.glob(f\"{dirname}/*gb\"):\n",
    "        filename_dash = filename.split(\"/\")[-1]\n",
    "        gbname = filename_dash.split(\"_\")\n",
    "        gbname = gbname[:-1]\n",
    "        gbname = list(map(float, gbname))\n",
    "        gbname = [-gbname[0],gbname[1],gbname[2]]\n",
    "        misorientation_list = []\n",
    "        for base in baselist:\n",
    "            cos = dot(gbname,base)/(norm(gbname)*norm(base))\n",
    "            mis_orientation = 2*(np.arccos(cos)/np.pi*180)\n",
    "            mis_orientation =  abs(mis_orientation)\n",
    "            misorientation_list.append(mis_orientation)\n",
    "        mis_angle = min(misorientation_list)\n",
    "        gbe = get_energy(f\"{filename}/results\") \n",
    "        mis_angle = np.round(mis_angle,5)\n",
    "        gbe = np.round(gbe,5)\n",
    "        misangle_list.append(mis_angle)\n",
    "        gbe_list.append(gbe)\n",
    "    result = np.array([misangle_list,gbe_list]).T\n",
    "    col_num = 0\n",
    "    result_sorted = result[np.argsort(result[:, col_num])]\n",
    "    result_sorted = np.vstack([np.array([0,0]),result_sorted])\n",
    "    return result_sorted"
   ]
  },
  {
   "cell_type": "code",
   "execution_count": 33,
   "id": "db9f9516",
   "metadata": {},
   "outputs": [],
   "source": [
    "def get_111_cnid_gbenergy(dirname):\n",
    "    misangle_list = []\n",
    "    gbe_list = []\n",
    "    baselist = []\n",
    "    for i in list(itertools.permutations([1,-1,0])):\n",
    "        baselist.append(list(i))\n",
    "    for filename in glob.glob(f\"{dirname}/*gb\"):\n",
    "        filename_dash = filename.split(\"/\")[-1]\n",
    "        gbname = filename_dash.split(\"_\")\n",
    "        gbname = gbname[:-1]\n",
    "        gbname = list(map(float, gbname))\n",
    "        gbname = [-gbname[0],gbname[1],gbname[2]]\n",
    "        misorientation_list = []\n",
    "        for base in baselist:\n",
    "            cos = dot(gbname,base)/(norm(gbname)*norm(base))\n",
    "            mis_orientation = 2*(np.arccos(cos)/np.pi*180)\n",
    "            mis_orientation =  abs(mis_orientation)\n",
    "            misorientation_list.append(mis_orientation)\n",
    "        mis_angle = min(misorientation_list)\n",
    "        gbe = get_cnid_energy(f\"{filename}/results\")\n",
    "        mis_angle = np.round(mis_angle,5)\n",
    "        gbe = np.round(gbe,5)\n",
    "        misangle_list.append(mis_angle)\n",
    "        gbe_list.append(gbe)\n",
    "    result = np.array([misangle_list,gbe_list]).T\n",
    "    col_num = 0\n",
    "    result_sorted = result[np.argsort(result[:, col_num])]\n",
    "    result_sorted = np.vstack([np.array([0,0]),result_sorted])\n",
    "    return result_sorted"
   ]
  },
  {
   "cell_type": "code",
   "execution_count": 34,
   "id": "fb8bd787",
   "metadata": {},
   "outputs": [],
   "source": [
    "def get_100_gbindice(dirname):\n",
    "    misangle_list = []\n",
    "    gbindice_list = []\n",
    "    for filename in glob.glob(f\"{dirname}/*gb\"):\n",
    "        filename_dash = filename.split(\"/\")[-1]\n",
    "        gbname = filename_dash.split(\"_\")\n",
    "        gbname = gbname[:-1]\n",
    "        gbname = list(map(float, gbname))\n",
    "        tang = min([float(gbname[1])/float(gbname[0]),float(gbname[0])/float(gbname[1])])\n",
    "        mis_angle = 2*(np.arctan(tang)/np.pi*180)\n",
    "        mis_angle = np.round(mis_angle,5)\n",
    "        misangle_list.append(mis_angle)\n",
    "        gbindice_list.append(f\"{int(gbname[0])} {int(gbname[1])} {int(gbname[2])}\")\n",
    "        \n",
    "    misangle_list = np.array(misangle_list)\n",
    "    gbindice_list = np.array(gbindice_list)\n",
    "    gbindice_list_sorted = gbindice_list[np.argsort(misangle_list)]\n",
    "    gbindice_list_sorted = np.hstack([np.array([\"1 0 0\"]),gbindice_list_sorted,np.array([\"1 1 0\"])])\n",
    "    return gbindice_list_sorted"
   ]
  },
  {
   "cell_type": "code",
   "execution_count": 35,
   "id": "c72c9ce5",
   "metadata": {},
   "outputs": [],
   "source": [
    "def get_110_gbindice(dirname):\n",
    "    misangle_list = []\n",
    "    gbindice_list = []\n",
    "    for filename in glob.glob(f\"{dirname}/*gb\"):\n",
    "        filename_dash = filename.split(\"/\")[-1]\n",
    "        gbname = filename_dash.split(\"_\")\n",
    "        gbname = gbname[:-1]\n",
    "        gbname = list(map(float, gbname))\n",
    "        gbname = order_indice(gbname)\n",
    "        x, y, z = gbname\n",
    "        tang = z/np.sqrt(x**2 + y**2)\n",
    "        mis_angle = 2*(np.arctan(tang)/np.pi*180)\n",
    "        mis_angle = abs(mis_angle) \n",
    "        mis_angle = np.round(mis_angle,5)\n",
    "        misangle_list.append(mis_angle)\n",
    "        gbindice_list.append(f\"{int(gbname[0])} {int(gbname[1])} {int(gbname[2])}\")\n",
    "        \n",
    "    misangle_list = np.array(misangle_list)\n",
    "    gbindice_list = np.array(gbindice_list)\n",
    "    gbindice_list_sorted = gbindice_list[np.argsort(misangle_list)]\n",
    "    gbindice_list_sorted = np.hstack([np.array([\"1 1 0\"]),gbindice_list_sorted,np.array([\"1 0 0\"])])\n",
    "        \n",
    "    return gbindice_list_sorted"
   ]
  },
  {
   "cell_type": "code",
   "execution_count": 36,
   "id": "ace1dd05",
   "metadata": {},
   "outputs": [],
   "source": [
    "def get_111_gbindice(dirname):\n",
    "    misangle_list = []\n",
    "    gbindice_list = []\n",
    "    baselist = []\n",
    "    for i in list(itertools.permutations([1,-1,0])):\n",
    "        baselist.append(list(i))\n",
    "    for filename in glob.glob(f\"{dirname}/*gb\"):\n",
    "        filename_dash = filename.split(\"/\")[-1]\n",
    "        gbname = filename_dash.split(\"_\")\n",
    "        gbname = gbname[:-1]\n",
    "        gbname = list(map(float, gbname))\n",
    "        gbname = [-gbname[0],gbname[1],gbname[2]]\n",
    "        misorientation_list = []\n",
    "        for base in baselist:\n",
    "            cos = dot(gbname,base)/(norm(gbname)*norm(base))\n",
    "            mis_orientation = 2*(np.arccos(cos)/np.pi*180)\n",
    "            mis_orientation =  abs(mis_orientation)\n",
    "            misorientation_list.append(mis_orientation)\n",
    "        mis_angle = min(misorientation_list)\n",
    "        mis_angle = np.round(mis_angle,5)\n",
    "        misangle_list.append(mis_angle)\n",
    "        gbindice_list.append(f\"{int(gbname[0])} {int(gbname[1])} {int(gbname[2])}\")\n",
    "        \n",
    "    misangle_list = np.array(misangle_list)\n",
    "    gbindice_list = np.array(gbindice_list)\n",
    "    gbindice_list_sorted = gbindice_list[np.argsort(misangle_list)]\n",
    "    gbindice_list_sorted = np.hstack([np.array([\"1 1 0\"]),gbindice_list_sorted])\n",
    "    \n",
    "    return gbindice_list_sorted"
   ]
  },
  {
   "cell_type": "code",
   "execution_count": 37,
   "id": "99be3018",
   "metadata": {},
   "outputs": [],
   "source": [
    "def make_results_excel(results,results2,filename=\"gbenergy\"):\n",
    "    wb = Workbook()\n",
    "\n",
    "    for i,dirname in enumerate(glob.glob(f\"{results}/*\")):\n",
    "        print(dirname)\n",
    "        name = dirname.split(\"/\")[-1]\n",
    "        name_dash = name.split(\"_\")[0]\n",
    "        axis = \"\".join(list(name_dash)[-3:])\n",
    "        print(name)\n",
    "        print(axis)\n",
    "        if i == 0:\n",
    "            ws = wb.active\n",
    "            ws.title = f\"{name}\"\n",
    "\n",
    "        else:\n",
    "            ws = wb.create_sheet(title = f\"{name}\")\n",
    "\n",
    "#         if axis==\"100\":\n",
    "#             result_sorted = get_100_gbenergy(dirname)\n",
    "#             result_sorted_cnid = get_100_cnid_gbenergy(f\"{results2}/{name}\")\n",
    "#             result_tot = np.hstack([result_sorted,result_sorted_cnid[:,1].reshape(-1,1),]).tolist()\n",
    "#             gbindice_list = get_100_gbindice(dirname)\n",
    "#             result_tot_gbindice = [result+[gbindice] for result,gbindice in zip(result_tot,gbindice_list)]\n",
    "#             make_excel(wb,ws,name_dash,result_tot_gbindice,filename)\n",
    "\n",
    "#         elif axis==\"110\":\n",
    "#             result_sorted = get_110_gbenergy(dirname)\n",
    "#             result_sorted_cnid = get_110_cnid_gbenergy(f\"{results2}/{name}\")\n",
    "#             result_tot = np.hstack([result_sorted,result_sorted_cnid[:,1].reshape(-1,1),]).tolist()\n",
    "#             gbindice_list = get_110_gbindice(dirname)\n",
    "#             result_tot_gbindice = [result+[gbindice] for result,gbindice in zip(result_tot,gbindice_list)]\n",
    "#             make_excel(wb,ws,name_dash,result_tot_gbindice,filename)\n",
    "\n",
    "\n",
    "#         else:\n",
    "#             result_sorted = get_111_gbenergy(dirname)\n",
    "#             result_sorted_cnid = get_111_cnid_gbenergy(f\"{results2}/{name}\")\n",
    "#             result_tot = np.hstack([result_sorted,result_sorted_cnid[:,1].reshape(-1,1),]).tolist()\n",
    "#             gbindice_list = get_111_gbindice(dirname)\n",
    "#             result_tot_gbindice = [result+[gbindice] for result,gbindice in zip(result_tot,gbindice_list)]\n",
    "#             make_excel(wb,ws,name_dash,result_tot_gbindice,filename)\n",
    "\n",
    "        if axis==\"100\":\n",
    "            result_sorted = get_100_gbenergy(dirname)\n",
    "            result_sorted_cnid = get_100_cnid_gbenergy(f\"{results2}/{name}\")\n",
    "            result_tot = np.hstack([result_sorted_cnid,result_sorted[:,1].reshape(-1,1),]).tolist()\n",
    "            gbindice_list = get_100_gbindice(dirname)\n",
    "            result_tot_gbindice = [result+[gbindice] for result,gbindice in zip(result_tot,gbindice_list)]\n",
    "            make_excel(wb,ws,name_dash,result_tot_gbindice,filename)\n",
    "\n",
    "        elif axis==\"110\":\n",
    "            result_sorted = get_110_gbenergy(dirname)\n",
    "            result_sorted_cnid = get_110_cnid_gbenergy(f\"{results2}/{name}\")\n",
    "            result_tot = np.hstack([result_sorted_cnid,result_sorted[:,1].reshape(-1,1),]).tolist()\n",
    "            gbindice_list = get_110_gbindice(dirname)\n",
    "            result_tot_gbindice = [result+[gbindice] for result,gbindice in zip(result_tot,gbindice_list)]\n",
    "            make_excel(wb,ws,name_dash,result_tot_gbindice,filename)\n",
    "\n",
    "\n",
    "        else:\n",
    "            result_sorted = get_111_gbenergy(dirname)\n",
    "            result_sorted_cnid = get_111_cnid_gbenergy(f\"{results2}/{name}\")\n",
    "            result_tot = np.hstack([result_sorted_cnid,result_sorted[:,1].reshape(-1,1),]).tolist()\n",
    "            gbindice_list = get_111_gbindice(dirname)\n",
    "            result_tot_gbindice = [result+[gbindice] for result,gbindice in zip(result_tot,gbindice_list)]\n",
    "            make_excel(wb,ws,name_dash,result_tot_gbindice,filename)"
   ]
  },
  {
   "cell_type": "code",
   "execution_count": 54,
   "id": "6722e77e",
   "metadata": {},
   "outputs": [
    {
     "data": {
      "image/png": "[encoded data removed]",
      "text/plain": [
       "<Figure size 432x288 with 1 Axes>"
      ]
     },
     "metadata": {
      "needs_background": "light"
     },
     "output_type": "display_data"
    }
   ],
   "source": [
    "import matplotlib.pyplot as plt\n",
    "\n",
    "fig, ax = plt.subplots()\n",
    "ax.set(title=r'$e^{-t}$',\n",
    "       xlabel=r'$time_s$', ylabel=r'$m^2$')\n",
    "plt.show()"
   ]
  },
  {
   "cell_type": "code",
   "execution_count": 58,
   "id": "75baae02",
   "metadata": {},
   "outputs": [
    {
     "name": "stdout",
     "output_type": "stream",
     "text": [
      "111_ct/Ag111\n",
      "Ag111\n",
      "111\n",
      "111_ct/Al111\n",
      "Al111\n",
      "111\n",
      "111_ct/Au111\n",
      "Au111\n",
      "111\n",
      "111_ct/Ni111\n",
      "Ni111\n",
      "111\n",
      "111_ct/Pb111\n",
      "Pb111\n",
      "111\n",
      "111_ct/Pd111\n",
      "Pd111\n",
      "111\n",
      "111_ct/Pt111\n",
      "Pt111\n",
      "111\n"
     ]
    }
   ],
   "source": [
    "make_results_excel(\"111_ct\",\"111_cnid\",filename=\"axis1113\")"
   ]
  },
  {
   "cell_type": "code",
   "execution_count": null,
   "id": "1c411f04",
   "metadata": {},
   "outputs": [],
   "source": []
  },
  {
   "cell_type": "code",
   "execution_count": null,
   "id": "0f8ac25f",
   "metadata": {},
   "outputs": [],
   "source": []
  },
  {
   "cell_type": "code",
   "execution_count": null,
   "id": "6b979b69",
   "metadata": {},
   "outputs": [],
   "source": []
  },
  {
   "cell_type": "code",
   "execution_count": 7,
   "id": "36de07ea",
   "metadata": {},
   "outputs": [],
   "source": [
    "try:\n",
    "    nlayer, gbenergy, systemenergy = np.loadtxt(\"change_termination/Mo100/2_1_0_gb/results\",unpack=True)\n",
    "except Exception:\n",
    "    nlayer1, nlayer2, gbenergy, systemenergy = np.loadtxt(\"change_termination/Mo100/2_1_0_gb/results\",unpack=True)"
   ]
  },
  {
   "cell_type": "code",
   "execution_count": 12,
   "id": "698a488b",
   "metadata": {},
   "outputs": [],
   "source": [
    "system_energy = np.loadtxt(\"change_termination/Mo100/2_1_0_gb/results\")[:,-1]"
   ]
  },
  {
   "cell_type": "code",
   "execution_count": 14,
   "id": "2d0a9f50",
   "metadata": {},
   "outputs": [
    {
     "data": {
      "text/plain": [
       "array([8249.12160019, 7835.91124784, 7835.91031911, 8623.51174171,\n",
       "       8249.11699839, 7835.90974296, 7835.90734225, 7835.91918749,\n",
       "       8623.43536951, 8249.11866574])"
      ]
     },
     "execution_count": 14,
     "metadata": {},
     "output_type": "execute_result"
    }
   ],
   "source": [
    "system_energy"
   ]
  },
  {
   "cell_type": "code",
   "execution_count": 15,
   "id": "0c1be3f5",
   "metadata": {},
   "outputs": [],
   "source": [
    "system_energy = np.loadtxt(\"change_termination/Mo100/2_1_0_gb/results\")[:,-1]\n",
    "gbenergy = np.loadtxt(\"change_termination/Mo100/2_1_0_gb/results\")[:,-2]"
   ]
  },
  {
   "cell_type": "code",
   "execution_count": 16,
   "id": "4c4424ee",
   "metadata": {},
   "outputs": [],
   "source": [
    "most_stable_gbenergy = gbenergy[system_energy.argmin()]"
   ]
  },
  {
   "cell_type": "code",
   "execution_count": 17,
   "id": "dac0cb7a",
   "metadata": {},
   "outputs": [
    {
     "data": {
      "text/plain": [
       "1737.00785887166"
      ]
     },
     "execution_count": 17,
     "metadata": {},
     "output_type": "execute_result"
    }
   ],
   "source": [
    "most_stable_gbenergy"
   ]
  },
  {
   "cell_type": "code",
   "execution_count": 18,
   "id": "69e6b0f9",
   "metadata": {},
   "outputs": [],
   "source": [
    "filename = \"change_termination/Mo100/2_1_0_gb/results\""
   ]
  },
  {
   "cell_type": "code",
   "execution_count": 19,
   "id": "8c8d4796",
   "metadata": {},
   "outputs": [],
   "source": [
    "def get_most_stable_gbenergy(filename):\n",
    "    system_energy = np.loadtxt(f\"{filename}\")[:,-1]\n",
    "    gbenergy = np.loadtxt(f\"{filename}\")[:,-2]\n",
    "    most_stable_gbenergy = gbenergy[system_energy.argmin()]\n",
    "    return most_stable_gbenergy"
   ]
  },
  {
   "cell_type": "code",
   "execution_count": 20,
   "id": "34ca334f",
   "metadata": {
    "scrolled": true
   },
   "outputs": [
    {
     "data": {
      "text/plain": [
       "1737.00785887166"
      ]
     },
     "execution_count": 20,
     "metadata": {},
     "output_type": "execute_result"
    }
   ],
   "source": [
    "get_most_stable_gbenergy(filename)"
   ]
  },
  {
   "cell_type": "code",
   "execution_count": null,
   "id": "023f3fa5",
   "metadata": {},
   "outputs": [],
   "source": []
  },
  {
   "cell_type": "code",
   "execution_count": 56,
   "id": "de74eaaf",
   "metadata": {},
   "outputs": [],
   "source": [
    "filename = \"cnid/Cu111/11_7_4_gb/results\""
   ]
  },
  {
   "cell_type": "code",
   "execution_count": 57,
   "id": "946f49ba",
   "metadata": {},
   "outputs": [],
   "source": [
    "gbenergy = np.loadtxt(f\"{filename}\")[:,-2]"
   ]
  },
  {
   "cell_type": "code",
   "execution_count": 49,
   "id": "44ce500d",
   "metadata": {},
   "outputs": [
    {
     "data": {
      "text/plain": [
       "624.111434162431"
      ]
     },
     "execution_count": 49,
     "metadata": {},
     "output_type": "execute_result"
    }
   ],
   "source": [
    "# 2 2 1\n",
    "gbenergy.min()"
   ]
  },
  {
   "cell_type": "code",
   "execution_count": 46,
   "id": "033df29a",
   "metadata": {},
   "outputs": [
    {
     "data": {
      "text/plain": [
       "795.823255234889"
      ]
     },
     "execution_count": 46,
     "metadata": {},
     "output_type": "execute_result"
    }
   ],
   "source": [
    "# 5 4 1\n",
    "gbenergy.min()"
   ]
  },
  {
   "cell_type": "code",
   "execution_count": 52,
   "id": "15e59a06",
   "metadata": {},
   "outputs": [
    {
     "data": {
      "text/plain": [
       "880.289787767895"
      ]
     },
     "execution_count": 52,
     "metadata": {},
     "output_type": "execute_result"
    }
   ],
   "source": [
    "# 7 5 2\n",
    "gbenergy.min()"
   ]
  },
  {
   "cell_type": "code",
   "execution_count": 55,
   "id": "4c06739e",
   "metadata": {},
   "outputs": [
    {
     "data": {
      "text/plain": [
       "627.399581889472"
      ]
     },
     "execution_count": 55,
     "metadata": {},
     "output_type": "execute_result"
    }
   ],
   "source": [
    "# 8 7 1\n",
    "gbenergy.min()"
   ]
  },
  {
   "cell_type": "code",
   "execution_count": 58,
   "id": "ef8ea0c3",
   "metadata": {},
   "outputs": [
    {
     "data": {
      "text/plain": [
       "854.426605593867"
      ]
     },
     "execution_count": 58,
     "metadata": {},
     "output_type": "execute_result"
    }
   ],
   "source": [
    "# 11 7 4\n",
    "gbenergy.min()"
   ]
  },
  {
   "cell_type": "code",
   "execution_count": 88,
   "id": "3ea0f533",
   "metadata": {},
   "outputs": [],
   "source": [
    "filename = \"cnid/Mo110/6_1_1_gb//results\""
   ]
  },
  {
   "cell_type": "code",
   "execution_count": 89,
   "id": "3626d2fb",
   "metadata": {},
   "outputs": [],
   "source": [
    "a, b, dx, dy, dz, energy, sys_energy = np.loadtxt(f\"{filename}\",unpack=True)"
   ]
  },
  {
   "cell_type": "code",
   "execution_count": 91,
   "id": "c8d18f2a",
   "metadata": {
    "scrolled": false
   },
   "outputs": [
    {
     "data": {
      "image/png": "[encoded data removed]",
      "text/plain": [
       "<Figure size 306.463x479.652 with 2 Axes>"
      ]
     },
     "metadata": {
      "needs_background": "light"
     },
     "output_type": "display_data"
    }
   ],
   "source": [
    "plt.figure(figsize = (max(dy) - min(dy),max(dz) - min(dz)))\n",
    "pcm = plt.scatter(dy,dz, c = energy,cmap = 'hot',s=100)\n",
    "plt.colorbar(pcm,cmap = 'hot')\n",
    "plt.scatter(dy[energy.argmin()],dz[energy.argmin()],s=200,c=\"green\")\n",
    "plt.ylabel('dz',fontsize = 20)\n",
    "plt.xlabel('dy',fontsize = 20)\n",
    "plt.savefig(\"Mo611gbenergy.jpeg\")"
   ]
  },
  {
   "cell_type": "code",
   "execution_count": null,
   "id": "0af8fc15",
   "metadata": {},
   "outputs": [],
   "source": []
  },
  {
   "cell_type": "code",
   "execution_count": 103,
   "id": "0df6479e",
   "metadata": {},
   "outputs": [],
   "source": [
    "def get_most_stable_gbenergy_with_indice(filename):\n",
    "    system_energy = np.loadtxt(f\"{filename}\")[:,-1]\n",
    "    gbenergy = np.loadtxt(f\"{filename}\")[:,-2]\n",
    "    most_stable_gbenergy = gbenergy[system_energy.argmin()]\n",
    "    indice = np.loadtxt(f\"{filename}\")[:,1]\n",
    "    most_stable_indice = indice[system_energy.argmin()]\n",
    "    return int(most_stable_indice), most_stable_gbenergy"
   ]
  },
  {
   "cell_type": "code",
   "execution_count": 104,
   "id": "e4466cea",
   "metadata": {},
   "outputs": [],
   "source": [
    "element_name = \"Pt\""
   ]
  },
  {
   "cell_type": "code",
   "execution_count": 114,
   "id": "6672103d",
   "metadata": {},
   "outputs": [
    {
     "name": "stdout",
     "output_type": "stream",
     "text": [
      "33.99217611435442\n",
      "10.41743820571046\n",
      "42.10344887074582\n",
      "30.59068860280949\n",
      "59.999999999999986\n",
      "38.21321070173819\n",
      "27.795772496027922\n",
      "46.8264488927411\n",
      "21.78678929826193\n",
      "17.896551129254263\n",
      "50.56999209210359\n",
      "32.204227503972106\n",
      "15.178178937949966\n",
      "43.573578596523646\n",
      "13.17355110725893\n",
      "52.6590069833698\n",
      "24.432697679454535\n",
      "11.635051288887242\n"
     ]
    }
   ],
   "source": [
    "indice_list = []\n",
    "gbe_list = []\n",
    "angle_list = []\n",
    "for dirname in glob.glob(f\"{element_name}/*gb\"):\n",
    "    indice, gbe = get_most_stable_gbenergy_with_indice(f\"{dirname}/results\")\n",
    "    filename = dirname.split(\"/\")[-1]\n",
    "    angle = get_angle(filename)\n",
    "    indice_list.append(indice)\n",
    "    gbe_list.append(gbe)\n",
    "    angle_list.append(angle)"
   ]
  },
  {
   "cell_type": "code",
   "execution_count": 116,
   "id": "e6b39747",
   "metadata": {},
   "outputs": [],
   "source": [
    "indice_list = np.array(indice_list,dtype=float)\n",
    "angle_list = np.array(angle_list,dtype=float)\n",
    "gbe_list = np.array(gbe_list,dtype=int)\n"
   ]
  },
  {
   "cell_type": "code",
   "execution_count": 121,
   "id": "03dadaa1",
   "metadata": {},
   "outputs": [
    {
     "data": {
      "image/png": "[encoded data removed]",
      "text/plain": [
       "<Figure size 432x288 with 1 Axes>"
      ]
     },
     "metadata": {
      "needs_background": "light"
     },
     "output_type": "display_data"
    }
   ],
   "source": [
    "plt.scatter(angle_list[indice_list==1],gbe_list[indice_list==1],label=\"0 shift\")\n",
    "plt.scatter(angle_list[indice_list==2],gbe_list[indice_list==2],label=\"shift\")\n",
    "plt.xlim([0,60])\n",
    "plt.ylim([0,1600])\n",
    "plt.xlabel(\"tilt angle\")\n",
    "plt.ylabel(\"gbenergy\")\n",
    "plt.legend()\n",
    "plt.title(\"Pt_111\")\n",
    "plt.savefig(\"Pt_111.jpeg\")"
   ]
  },
  {
   "cell_type": "code",
   "execution_count": 111,
   "id": "1bfc5c39",
   "metadata": {},
   "outputs": [],
   "source": [
    "def get_angle(filename):\n",
    "    misangle_list = []\n",
    "    gbe_list = []\n",
    "    baselist = []\n",
    "    for i in list(itertools.permutations([1,-1,0])):\n",
    "        baselist.append(list(i))\n",
    "    # for filename in glob.glob(f\"{element_name}/*gb\"):\n",
    "    filename_dash = filename.split(\"/\")[-1]\n",
    "    gbname = filename_dash.split(\"_\")\n",
    "    gbname = gbname[1:-1]\n",
    "    gbname = list(map(float, gbname))\n",
    "    gbname = [-gbname[0],gbname[1],gbname[2]]\n",
    "    misorientation_list = []\n",
    "    for base in baselist:\n",
    "        cos = dot(gbname,base)/(norm(gbname)*norm(base))\n",
    "        mis_orientation = 2*(np.arccos(cos)/np.pi*180)\n",
    "        mis_orientation =  abs(mis_orientation)\n",
    "        misorientation_list.append(mis_orientation)\n",
    "    mis_angle = min(misorientation_list)\n",
    "    return mis_angle"
   ]
  },
  {
   "cell_type": "code",
   "execution_count": 113,
   "id": "87bb2f9c",
   "metadata": {},
   "outputs": [
    {
     "name": "stdout",
     "output_type": "stream",
     "text": [
      "59.999999999999986\n"
     ]
    },
    {
     "data": {
      "text/plain": [
       "59.999999999999986"
      ]
     },
     "execution_count": 113,
     "metadata": {},
     "output_type": "execute_result"
    }
   ],
   "source": [
    "get_angle(\"111_2_1_1_gb\")"
   ]
  },
  {
   "cell_type": "code",
   "execution_count": null,
   "id": "e39f577d",
   "metadata": {},
   "outputs": [],
   "source": []
  },
  {
   "cell_type": "code",
   "execution_count": null,
   "id": "0bb52bca",
   "metadata": {},
   "outputs": [],
   "source": []
  },
  {
   "cell_type": "code",
   "execution_count": null,
   "id": "8d8dec36",
   "metadata": {},
   "outputs": [],
   "source": []
  },
  {
   "cell_type": "code",
   "execution_count": null,
   "id": "ed70b64a",
   "metadata": {},
   "outputs": [],
   "source": []
  }
 ],
 "metadata": {
  "kernelspec": {
   "display_name": "Python 3 (ipykernel)",
   "language": "python",
   "name": "python3"
  },
  "language_info": {
   "codemirror_mode": {
    "name": "ipython",
    "version": 3
   },
   "file_extension": ".py",
   "mimetype": "text/x-python",
   "name": "python",
   "nbconvert_exporter": "python",
   "pygments_lexer": "ipython3",
   "version": "3.8.3"
  }
 },
 "nbformat": 4,
 "nbformat_minor": 5
}
